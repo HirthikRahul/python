{
  "cells": [
    {
      "cell_type": "code",
      "execution_count": null,
      "metadata": {
        "colab": {
          "base_uri": "https://localhost:8080/",
          "height": 53
        },
        "id": "HqblG3lLEyvG",
        "outputId": "0b0c6c6e-8d45-408c-f39a-88e50a434523"
      },
      "outputs": [
        {
          "data": {
            "application/vnd.google.colaboratory.intrinsic+json": {
              "type": "string"
            },
            "text/plain": [
              "'!git config --global user.email \"hirthikrahul@gmail.com\"\\n!git config --global user.name \"HirthikRahul\"\\n!git add .\\n!git commit -m \"done untill binary tree\"\\n!git push origin main'"
            ]
          },
          "execution_count": 15,
          "metadata": {},
          "output_type": "execute_result"
        }
      ],
      "source": [
        "'''!git config --global user.email \"hirthikrahul@gmail.com\"\n",
        "!git config --global user.name \"HirthikRahul\"\n",
        "!git add .\n",
        "!git commit -m \"done untill binary tree\"\n",
        "!git push origin main'''"
      ]
    },
    {
      "cell_type": "code",
      "execution_count": null,
      "metadata": {
        "colab": {
          "base_uri": "https://localhost:8080/"
        },
        "id": "hZzMnWda8TLX",
        "outputId": "6444ab2d-4b50-489e-ace5-f9b87fc889f1"
      },
      "outputs": [
        {
          "name": "stdout",
          "output_type": "stream",
          "text": [
            "Ramu Maths\n",
            "can access outer class of parent\n",
            "can access parent's inner class\n"
          ]
        }
      ],
      "source": [
        "class student:\n",
        "  def __init__(self,age,height,name,course_num,course_cost):\n",
        "    self.age=age\n",
        "    self.height=height\n",
        "    self.name=name\n",
        "    self.c2=self.courses(course_num,course_cost)\n",
        "\n",
        "\n",
        "\n",
        "\n",
        "  def getdetails(self):\n",
        "    print(self.name,self.age,self.height)\n",
        "\n",
        "\n",
        "  def in_outer_class(self):\n",
        "    print(\"can access outer class of parent\")\n",
        "\n",
        "  class courses:\n",
        "    def __init__(self,num_courses,fees):\n",
        "      self.num_courses=num_courses\n",
        "      self.fees=fees\n",
        "\n",
        "    def getdetails(self):\n",
        "      print(self.num_courses,self.fees)\n",
        "\n",
        "    def in_inner_class(self):\n",
        "      print(\"can access parent's inner class\")\n",
        "\n",
        "\n",
        "s1=student(21,180,\"Adam\",3,20005)\n",
        "#c1=student.courses(3,268)\n",
        "#s1.getdetails()\n",
        "#s1.c2.getdetails()\n",
        "\n",
        "class Teacher(student):\n",
        "  def __init__(self,name,subject):\n",
        "    self.name=name\n",
        "    self.subject=subject\n",
        "  def getdetails(self):\n",
        "    print(self.name,self.subject)\n",
        "\n",
        "  def get_inner_class_access(self):\n",
        "    self.courses.in_inner_class(self)\n",
        "\n",
        "t1=Teacher(\"Ramu\",\"Maths\")\n",
        "t1.getdetails()\n",
        "t1.in_outer_class()\n",
        "t1.get_inner_class_access()\n",
        "\n",
        "\n",
        "\n",
        "\n",
        "\n"
      ]
    },
    {
      "cell_type": "code",
      "execution_count": null,
      "metadata": {
        "id": "VS7f9xdYExo-"
      },
      "outputs": [],
      "source": []
    },
    {
      "cell_type": "code",
      "execution_count": null,
      "metadata": {
        "colab": {
          "base_uri": "https://localhost:8080/"
        },
        "id": "4W8LAoab8TW3",
        "outputId": "a6b260d2-6e58-4407-e972-7d4b7d897c37"
      },
      "outputs": [
        {
          "name": "stdout",
          "output_type": "stream",
          "text": [
            "78---->89---->5---->\n",
            "okay...I inserted at the beginning\n",
            "1011---->78---->89---->5---->\n",
            "1011---->78---->2022---->89---->5---->\n",
            "1011---->78---->2022---->2023---->89---->5---->\n",
            "1011---->78---->2021---->2022---->2023---->89---->5---->\n",
            "1011---->78---->2022---->2023---->89---->5---->\n"
          ]
        }
      ],
      "source": [
        "class Node:\n",
        "\n",
        "  def __init__(self,data,next):\n",
        "    self.data=data\n",
        "    self.next=next\n",
        "\n",
        "\n",
        "class LinkedList:\n",
        "\n",
        "  def __init__(self):\n",
        "    self.head=None\n",
        "\n",
        "  def insert_at_beginning(self,data):\n",
        "    new_node=Node(data,self.head)\n",
        "    self.head=new_node\n",
        "\n",
        "  def print_my_list(self):\n",
        "    if self.head==None:\n",
        "      print(\"Its as empty list\")\n",
        "      return\n",
        "    node_itr=self.head\n",
        "    liststr=''\n",
        "    while node_itr:\n",
        "      liststr=liststr+str(node_itr.data)+'---->'\n",
        "      node_itr=node_itr.next\n",
        "    print(liststr)\n",
        "\n",
        "  def length_of_list(self):\n",
        "    pass\n",
        "    if self.head==None:\n",
        "      return 0\n",
        "    node_itr=self.head\n",
        "    count=0\n",
        "    while node_itr:\n",
        "      count=count+1\n",
        "      node_itr=node_itr.next\n",
        "    return count\n",
        "\n",
        "\n",
        "\n",
        "  def insert_at_location(self,data,ind):\n",
        "    # see if loc is insde the range of list\n",
        "    if ind==0:\n",
        "      self.insert_at_beginning(data)\n",
        "      print(\"okay...I inserted at the beginning\")\n",
        "      return\n",
        "    if ind<=self.length_of_list()-1:\n",
        "      node_itr=self.head\n",
        "      while ind-1:\n",
        "        node_itr=node_itr.next\n",
        "        ind=ind-1\n",
        "      inserting_node=Node(data,node_itr.next)\n",
        "      node_itr.next=inserting_node\n",
        "\n",
        "  def get_index(self,value):\n",
        "    ind=0\n",
        "    node_itr=self.head\n",
        "    while node_itr.data!=value:\n",
        "      node_itr=node_itr.next\n",
        "      ind=ind+1\n",
        "    return ind\n",
        "\n",
        "  def insert_after_value(self,value,data):\n",
        "    ind=self.get_index(value)\n",
        "    self.insert_at_location(data,ind+1)\n",
        "\n",
        "  def inser_before_value(self,value,data):\n",
        "    ind=self.get_index(value)\n",
        "    self.insert_at_location(data,ind)\n",
        "\n",
        "  def delete_at_index(self,ind):\n",
        "    loc=0\n",
        "    node_itr=self.head\n",
        "    while loc!=ind-1:\n",
        "      node_itr=node_itr.next\n",
        "      loc=loc+1\n",
        "    node_itr.next=node_itr.next.next\n",
        "\n",
        "\n",
        "\n",
        "ll=LinkedList()\n",
        "ll.insert_at_beginning(5)\n",
        "ll.insert_at_beginning(89)\n",
        "ll.insert_at_beginning(78)\n",
        "ll.print_my_list()\n",
        "ll.insert_at_location(1011,0)\n",
        "ll.print_my_list()\n",
        "ll.insert_at_location(2022,2)\n",
        "ll.print_my_list()\n",
        "ll.get_index(2022)\n",
        "ll.insert_after_value(2022,2023)\n",
        "ll.print_my_list()\n",
        "ll.inser_before_value(2022,2021)\n",
        "ll.print_my_list()\n",
        "ll.delete_at_index(2)\n",
        "ll.print_my_list()\n",
        "\n",
        "\n",
        "\n"
      ]
    },
    {
      "cell_type": "code",
      "execution_count": null,
      "metadata": {
        "colab": {
          "base_uri": "https://localhost:8080/"
        },
        "id": "A-kvRG7H8TYR",
        "outputId": "a85f45a3-4f92-4cdb-a98f-215a7dd61c96"
      },
      "outputs": [
        {
          "name": "stdout",
          "output_type": "stream",
          "text": [
            "None\n"
          ]
        }
      ],
      "source": [
        "#Hash Table with no collision handling\n",
        "\n",
        "class HashTable:\n",
        "\n",
        "  def __init__(self):\n",
        "    self.arr_max=10\n",
        "    self.arr=[None for _ in range(self.arr_max)]\n",
        "\n",
        "  def get_hash(self,key):\n",
        "    h=0\n",
        "    for x in key:\n",
        "      h=h+ord(x)\n",
        "      return (h%self.arr_max)\n",
        "\n",
        "  def add_element(self,kv_pair):\n",
        "    hashindex=self.get_hash(kv_pair[0])\n",
        "    self.arr[hashindex]=kv_pair[1]\n",
        "\n",
        "\n",
        "  def get_element(self,key):\n",
        "    hash_index=self.get_hash(key)\n",
        "    print(self.arr[hash_index])\n",
        "\n",
        "table=HashTable()\n",
        "table.add_element([\"Dec 6\",874])\n",
        "\n",
        "table.get_element(\"March 6\")\n",
        "\n",
        "\n",
        "\n"
      ]
    },
    {
      "cell_type": "code",
      "execution_count": null,
      "metadata": {
        "colab": {
          "base_uri": "https://localhost:8080/"
        },
        "id": "M7r7A5o68Tct",
        "outputId": "51c6a390-6c9f-4216-c0e2-8b768cd7f93e"
      },
      "outputs": [
        {
          "data": {
            "text/plain": [
              "[None, None, None, None, 542, None, None, None, 874, None]"
            ]
          },
          "execution_count": 19,
          "metadata": {},
          "output_type": "execute_result"
        }
      ],
      "source": [
        "table.add_element([\"Jan 6\",542])\n",
        "table.arr\n"
      ]
    },
    {
      "cell_type": "code",
      "execution_count": null,
      "metadata": {
        "colab": {
          "base_uri": "https://localhost:8080/"
        },
        "collapsed": true,
        "id": "-0pUwYwZ8Ted",
        "outputId": "3fafaf25-a1c7-48a4-ed13-3631bd05f9c9"
      },
      "outputs": [
        {
          "name": "stdout",
          "output_type": "stream",
          "text": [
            "it doesnt exist\n",
            "May 06 25\n"
          ]
        }
      ],
      "source": [
        "class Hash_Collision:\n",
        "  def __init__(self):\n",
        "    self.arr_max=10\n",
        "    self.arr=[[] for _ in range(self.arr_max)]\n",
        "\n",
        "\n",
        "  def get_hash(self,kv_pair):\n",
        "    h=0\n",
        "    for x in kv_pair[0]:\n",
        "      h=h+ord(x)\n",
        "      #print(h%self.arr_max)\n",
        "      return (h%self.arr_max)\n",
        "\n",
        "\n",
        "  def add_element(self,key,val):\n",
        "    h=self.get_hash(key)\n",
        "    found=False\n",
        "    for idx,elem in enumerate(self.arr[h]):\n",
        "      if elem[0]==key:\n",
        "        self.arr[h][idx]=[key,val]\n",
        "        found=True\n",
        "    if not found:\n",
        "      self.arr[h].append([key,val])\n",
        "\n",
        "    #self.arr[h].append([key,val])\n",
        "\n",
        "  def get_elemet(self,key):\n",
        "    h=self.get_hash(key)\n",
        "    found=False\n",
        "    for idx,elem in enumerate(self.arr[h]):\n",
        "      if elem[0]==key:\n",
        "        print(elem[0],elem[1])\n",
        "        found=True\n",
        "      if not found:\n",
        "        print(\"it doesnt exist\")\n",
        "\n",
        "\n",
        "t=Hash_Collision()\n",
        "\n",
        "\n",
        "#t.arr[9].append([\"march 06\",969])\n",
        "t.add_element(\"March 06\",19)\n",
        "t.add_element(\"Sept 06\",280)\n",
        "t.add_element(\"May 06\",920)\n",
        "t.add_element(\"May 06\",5)\n",
        "t.add_element(\"May 06\",25)\n",
        "t.get_elemet(\"May 06\")\n",
        "\n"
      ]
    },
    {
      "cell_type": "code",
      "execution_count": null,
      "metadata": {
        "id": "l1e4Pv0U8TiP"
      },
      "outputs": [],
      "source": [
        "#t.arr[9][0].append([\"sept 8\",7])\n",
        "#t.arr"
      ]
    },
    {
      "cell_type": "code",
      "execution_count": null,
      "metadata": {
        "id": "yFMaKItd8Tjz"
      },
      "outputs": [],
      "source": [
        "!git config --global user.name \"HirthikRahul\"\n",
        "!git config --global user.email \"hirthikrahul@gmail.com\"\n",
        "!git config --global user.passwork \"\"\n"
      ]
    },
    {
      "cell_type": "code",
      "execution_count": null,
      "metadata": {
        "id": "Qz7SQ1iy8Tn0"
      },
      "outputs": [],
      "source": [
        "token=''\n",
        "username='HirthikRahul'\n",
        "repo='python'"
      ]
    },
    {
      "cell_type": "code",
      "execution_count": null,
      "metadata": {
        "colab": {
          "base_uri": "https://localhost:8080/"
        },
        "id": "u9sJahJYwPnY",
        "outputId": "659ab9dd-4997-4c7e-c246-ec6a07739555"
      },
      "outputs": [
        {
          "name": "stdout",
          "output_type": "stream",
          "text": [
            "Cloning into 'python'...\n",
            "warning: redirecting to https://github.com/HirthikRahul/python/\n",
            "remote: Enumerating objects: 58, done.\u001b[K\n",
            "remote: Counting objects: 100% (58/58), done.\u001b[K\n",
            "remote: Compressing objects: 100% (39/39), done.\u001b[K\n",
            "remote: Total 58 (delta 16), reused 2 (delta 0), pack-reused 0 (from 0)\u001b[K\n",
            "Receiving objects: 100% (58/58), 16.53 KiB | 2.36 MiB/s, done.\n",
            "Resolving deltas: 100% (16/16), done.\n"
          ]
        }
      ],
      "source": [
        "!git clone https://{token}@github.com/{username}/{repo}"
      ]
    },
    {
      "cell_type": "code",
      "execution_count": null,
      "metadata": {
        "colab": {
          "base_uri": "https://localhost:8080/"
        },
        "id": "oSijohqywQCk",
        "outputId": "e42bd0c7-ab79-4779-9fef-a668a4addc38"
      },
      "outputs": [
        {
          "name": "stdout",
          "output_type": "stream",
          "text": [
            "/content/python\n"
          ]
        }
      ],
      "source": [
        "%cd {repo}"
      ]
    },
    {
      "cell_type": "code",
      "execution_count": null,
      "metadata": {
        "id": "dH-2PdIL1Tag"
      },
      "outputs": [],
      "source": [
        "%ls"
      ]
    },
    {
      "cell_type": "code",
      "execution_count": null,
      "metadata": {
        "colab": {
          "base_uri": "https://localhost:8080/"
        },
        "id": "LrYTnifG31lJ",
        "outputId": "6744abbf-c966-4cc4-b615-f7b7e75a38b1"
      },
      "outputs": [
        {
          "name": "stdout",
          "output_type": "stream",
          "text": [
            "[Errno 2] No such file or directory: 'Python_Practice'\n",
            "/content/python\n"
          ]
        }
      ],
      "source": [
        "%cd Python_Practice"
      ]
    },
    {
      "cell_type": "code",
      "execution_count": null,
      "metadata": {
        "id": "C0Ajjp9137w1"
      },
      "outputs": [],
      "source": [
        "%ls"
      ]
    },
    {
      "cell_type": "code",
      "execution_count": null,
      "metadata": {
        "id": "rjF-SaJr9jHa"
      },
      "outputs": [],
      "source": []
    },
    {
      "cell_type": "code",
      "execution_count": null,
      "metadata": {
        "id": "djWdzUcF1XGB"
      },
      "outputs": [],
      "source": [
        "#!mv /content/python/Python_Practice/Python_DSA.ipynb /content/python/Python_Practice"
      ]
    },
    {
      "cell_type": "code",
      "execution_count": null,
      "metadata": {
        "id": "6qPRt3rc1XC_"
      },
      "outputs": [],
      "source": [
        "#!git status"
      ]
    },
    {
      "cell_type": "code",
      "execution_count": null,
      "metadata": {
        "id": "7YH65M1q1W_H"
      },
      "outputs": [],
      "source": [
        "#!git add --all"
      ]
    },
    {
      "cell_type": "code",
      "execution_count": null,
      "metadata": {
        "id": "NcFptIba1W9y"
      },
      "outputs": [],
      "source": [
        "#!git commit -a -m \"Making a commit from colab!!\""
      ]
    },
    {
      "cell_type": "code",
      "execution_count": null,
      "metadata": {
        "id": "T0z6df-y1W6A"
      },
      "outputs": [],
      "source": [
        "#!git remote -v"
      ]
    },
    {
      "cell_type": "code",
      "execution_count": null,
      "metadata": {
        "id": "_b2R-EGb1W4T"
      },
      "outputs": [],
      "source": [
        "#!git push origin main"
      ]
    },
    {
      "cell_type": "code",
      "execution_count": null,
      "metadata": {
        "id": "qi-lX-uc4I4A"
      },
      "outputs": [],
      "source": []
    },
    {
      "cell_type": "code",
      "execution_count": null,
      "metadata": {
        "colab": {
          "base_uri": "https://localhost:8080/"
        },
        "id": "-troIe9h4I0-",
        "outputId": "9aab4498-a55c-4bcd-bb54-479949bfab9a"
      },
      "outputs": [
        {
          "name": "stdout",
          "output_type": "stream",
          "text": [
            "Motor vehicles\n",
            "    |__Four Wheelers\n",
            "        |__Car\n",
            "        |__Van\n",
            "    |__Two Wheelers\n",
            "        |__Scooty\n",
            "        |__Bike\n"
          ]
        }
      ],
      "source": [
        "class Tree_Node:\n",
        "  def __init__(self,data):\n",
        "    self.data=data\n",
        "    self.parent=None\n",
        "    self.child=[]\n",
        "    self.num_of_childer=None\n",
        "\n",
        "\n",
        "  def add_child_tree(self,kid):\n",
        "    pass\n",
        "    kid.parent=self\n",
        "    self.child.append(kid)\n",
        "\n",
        "\n",
        "\n",
        "\n",
        "  def get_level(self):\n",
        "    level=0\n",
        "    while self.parent:\n",
        "      level+=1\n",
        "      self=self.parent\n",
        "    return level\n",
        "\n",
        "  def print_tree(self):\n",
        "    level=self.get_level()\n",
        "    if self.parent:\n",
        "      print(\"    \"*level+\"|__\"+self.data)\n",
        "    else:\n",
        "      print(self.data)\n",
        "    #print(self.data)\n",
        "    for each_child in self.child:\n",
        "\n",
        "      each_child.print_tree()\n",
        "\n",
        "\n",
        "\n",
        "\n",
        "\n",
        "def build_tree():\n",
        "  root_tree_node1=Tree_Node(\"Motor vehicles\")\n",
        "  four_wheels=Tree_Node(\"Four Wheelers\")\n",
        "  two_wheels=Tree_Node(\"Two Wheelers\")\n",
        "\n",
        "  #four_wheels.add_child_tree(Tree_Node(\"Car\"))\n",
        "  car=Tree_Node(\"Car\")\n",
        "  van=Tree_Node(\"Van\")\n",
        "  four_wheels.add_child_tree(car)\n",
        "  four_wheels.add_child_tree(van)\n",
        "  #four_wheels.add_child_tree(Tree_Node(\"Van\"))\n",
        "\n",
        "\n",
        "  #two_wheels.add_child_tree(Tree_Node(\"Scooty\"))\n",
        "  scooty=Tree_Node(\"Scooty\")\n",
        "  two_wheels.add_child_tree(scooty)\n",
        "  #two_wheels.add_child_tree(Tree_Node(\"Bike\"))\n",
        "  Bike=Tree_Node(\"Bike\")\n",
        "  two_wheels.add_child_tree(Bike)\n",
        "\n",
        "  root_tree_node1.add_child_tree(four_wheels)\n",
        "  root_tree_node1.add_child_tree(two_wheels)\n",
        "\n",
        "\n",
        "  #print(\"car level:\",car.get_level())\n",
        "  return root_tree_node1\n",
        "\n",
        "\n",
        "\n",
        "\n",
        "if __name__=='__main__':\n",
        "  our_tree=build_tree()\n",
        "  #print(type(our_tree))\n",
        "  our_tree.print_tree()\n",
        "\n",
        "\n",
        "\n"
      ]
    },
    {
      "cell_type": "code",
      "execution_count": null,
      "metadata": {
        "colab": {
          "base_uri": "https://localhost:8080/"
        },
        "id": "0S6VBXcS4IxC",
        "outputId": "a5f18420-1738-4a4c-8c47-01b15f1c9644"
      },
      "outputs": [
        {
          "name": "stdout",
          "output_type": "stream",
          "text": [
            "24\n",
            "22\n",
            "15\n",
            "1\n",
            "89\n",
            "80\n",
            "max is 89\n",
            "max after deletion is 89\n",
            "parent of item:  15\n",
            "item is not there to delete\n",
            "tree after deletion\n",
            "24\n",
            "22\n",
            "15\n",
            "1\n",
            "89\n"
          ]
        }
      ],
      "source": [
        "class BinaryTree:\n",
        "\n",
        "  def __init__(self,data):\n",
        "    self.data=data\n",
        "    self.left=None\n",
        "    self.right=None\n",
        "    self.parent=None\n",
        "    self.has_child_BT=None\n",
        "\n",
        "\n",
        "  def add_node_BT(self,node):\n",
        "    if self.data==node.data:\n",
        "      return\n",
        "    if node.data<self.data:\n",
        "      if self.left is None:\n",
        "        self.left=node\n",
        "        node.parent=self\n",
        "        self.has_child_BT=True\n",
        "      else:\n",
        "        self.left.add_node_BT(node)\n",
        "    else:\n",
        "      if self.right is None:\n",
        "        self.right=node\n",
        "        node.parent=self\n",
        "        self.has_child_BT=True\n",
        "      else:\n",
        "        self.right.add_node_BT(node)\n",
        "\n",
        "  def print_binary_tree_preorder(self):\n",
        "    if self is None:\n",
        "      return\n",
        "    print(self.data)\n",
        "    if self.left:\n",
        "      self.left.print_binary_tree_preorder()\n",
        "    if self.right:\n",
        "      self.right.print_binary_tree_preorder()\n",
        "\n",
        "\n",
        "  def maxbinary_tree(self):\n",
        "    itr=self\n",
        "    while itr.right:\n",
        "      itr=self.right\n",
        "    return itr\n",
        "\n",
        "  def minbinary_tree(self):\n",
        "    itr=self\n",
        "    while itr.left:\n",
        "      itr=itr.left\n",
        "    return itr\n",
        "\n",
        "  def delete_node_BT(self,val):\n",
        "    node_to_be_deleted=self.find_value_BT(val)\n",
        "    if node_to_be_deleted is None:\n",
        "      print(\"item is not there to delete\")\n",
        "      return None\n",
        "\n",
        "    else:\n",
        "      if node_to_be_deleted.parent:\n",
        "        item_to_work=node_to_be_deleted.parent\n",
        "        if node_to_be_deleted.left is None and node_to_be_deleted.right is None:\n",
        "          if item_to_work.left==node_to_be_deleted:\n",
        "            item_to_work.left=None\n",
        "          else:\n",
        "            item_to_work.right=None\n",
        "\n",
        "        if node_to_be_deleted.left is None and node_to_be_deleted.right is not None:\n",
        "          if item_to_work.left==node_to_be_deleted:\n",
        "            item_to_work.left=node_to_be_deleted.right\n",
        "          elif item_to_work.right==node_to_be_deleted:\n",
        "            item_to_work.right=node_to_be_deleted.right\n",
        "        if node_to_be_deleted.left is not None and node_to_be_deleted.right is None:\n",
        "          if item_to_work.left==node_to_be_deleted:\n",
        "            item_to_work.left=node_to_be_deleted.right\n",
        "          elif item_to_work.right==node_to_be_deleted:\n",
        "            item_to_work.right=node_to_be_deleted.right\n",
        "\n",
        "        '''else:\n",
        "          min_right_sub_tree=node_to_be_deleted.minbinary_tree()\n",
        "          node_to_be_deleted.data=min_right_sub_tree.data\n",
        "          return min_right_sub_tree.delete_node_BT(min_right_sub_tree.data)'''\n",
        "\n",
        "\n",
        "\n",
        "\n",
        "\n",
        "\n",
        "\n",
        "  def find_value_BT(self,value):\n",
        "    if value==self.data:\n",
        "      return self\n",
        "    if value<self.data:\n",
        "      if self.left:\n",
        "        itrl=self.left\n",
        "        return itrl.find_value_BT(value)\n",
        "      else:\n",
        "        return None\n",
        "    if value>self.data:\n",
        "      if self.right:\n",
        "        itrr=self.right\n",
        "        return itrr.find_value_BT(value)\n",
        "\n",
        "\n",
        "\n",
        "\n",
        "def build_binary_tree():\n",
        "  binary_tree_root=BinaryTree(24)\n",
        "  binary_tree_node1=BinaryTree(22)\n",
        "  binary_tree_node2=BinaryTree(89)\n",
        "  binary_tree_node3=BinaryTree(15)\n",
        "  binary_tree_node4=BinaryTree(1)\n",
        "  binary_tree_node5=BinaryTree(80)\n",
        "  binary_tree_root.add_node_BT(binary_tree_node1)\n",
        "  binary_tree_root.add_node_BT(binary_tree_node2)\n",
        "  binary_tree_root.add_node_BT(binary_tree_node3)\n",
        "  binary_tree_root.add_node_BT(binary_tree_node4)\n",
        "  binary_tree_root.add_node_BT(binary_tree_node5)\n",
        "  #print(\"parent is\",binary_tree_node4.parent.data)\n",
        "\n",
        "  return binary_tree_root\n",
        "\n",
        "if __name__=='__main__':\n",
        "  binary_tree_vairbale = build_binary_tree()\n",
        "  binary_tree_vairbale.print_binary_tree_preorder()\n",
        "  print(\"max is\",binary_tree_vairbale.maxbinary_tree().data)\n",
        "  binary_tree_vairbale.delete_node_BT(80)\n",
        "  print(\"max after deletion is\",binary_tree_vairbale.maxbinary_tree().data)\n",
        "  print(\"parent of item: \",binary_tree_vairbale.find_value_BT(1).parent.data)\n",
        "  binary_tree_vairbale.delete_node_BT(80)\n",
        "  print(\"tree after deletion\")\n",
        "  binary_tree_vairbale.print_binary_tree_preorder()\n",
        "\n"
      ]
    },
    {
      "cell_type": "code",
      "execution_count": null,
      "metadata": {
        "id": "new4m143Qmwk"
      },
      "outputs": [],
      "source": [
        "class A:\n",
        "  def print_method_a():\n",
        "    print(\"i am in class A\")\n",
        "\n",
        "  class B:\n",
        "    def print_method_b():\n",
        "      print(\"i am in class B\")\n",
        "\n",
        "class C(A,A.B):\n",
        "  def print_method_c():\n",
        "    print(\"i am in class C\")\n",
        "# We can use multi-inheritance to inherit innner class. access inner class of the parent class through the parent class. \"Paren_Class.Inner_Class\"\n",
        "c=C"
      ]
    },
    {
      "cell_type": "code",
      "execution_count": null,
      "metadata": {
        "colab": {
          "base_uri": "https://localhost:8080/",
          "height": 123
        },
        "id": "l0EfqUvOQm-W",
        "outputId": "c456eab9-7760-45fb-99fa-48a1f62580e2"
      },
      "outputs": [
        {
          "data": {
            "application/vnd.google.colaboratory.intrinsic+json": {
              "type": "string"
            },
            "text/plain": [
              "'def delete_node_binary_tree(self,value):\\n    print(\"self.data is\",self.data)\\n    #print(\"value is \",value)\\n    if self.data is None:\\n      return\\n    if value<self.data:\\n      while self.left.data!=value:\\n        self=self.left\\n        self.delete_node_binary_tree()\\n    if value>self.data:\\n      #print(\"inside right , self.right value is\",self.right.data)\\n      while self.right.data!=value:\\n        self=self.right\\n        print(\"self=self.right.data\",self.right.data)\\n        self.delete_node_binary_tree()\\n    elif self.data==value:\\n      # delete the node\\n      #print(\"entered the elif block\")\\n      if self.left is None and self.right is None:\\n        self=None\\n      if self.left is not None and self.right is None:\\n        pass\\n        self=self.left\\n      if self.left is None and self.right is not None:\\n        pass\\n        self=self.right\\n      else:\\n        pass\\n        if value>self.data:\\n          #get min from right side tree and replace the node\\n          rightmin=self.right.minbinary_tree()\\n          self=rightmin\\n          rightmin=None\\n\\n        else:\\n          #get maximum from the left tree and replace the node\\n          leftmax=self.left.maxbinary_tree\\n          leftmax=None'"
            ]
          },
          "execution_count": 38,
          "metadata": {},
          "output_type": "execute_result"
        }
      ],
      "source": [
        "'''def delete_node_binary_tree(self,value):\n",
        "    print(\"self.data is\",self.data)\n",
        "    #print(\"value is \",value)\n",
        "    if self.data is None:\n",
        "      return\n",
        "    if value<self.data:\n",
        "      while self.left.data!=value:\n",
        "        self=self.left\n",
        "        self.delete_node_binary_tree()\n",
        "    if value>self.data:\n",
        "      #print(\"inside right , self.right value is\",self.right.data)\n",
        "      while self.right.data!=value:\n",
        "        self=self.right\n",
        "        print(\"self=self.right.data\",self.right.data)\n",
        "        self.delete_node_binary_tree()\n",
        "    elif self.data==value:\n",
        "      # delete the node\n",
        "      #print(\"entered the elif block\")\n",
        "      if self.left is None and self.right is None:\n",
        "        self=None\n",
        "      if self.left is not None and self.right is None:\n",
        "        pass\n",
        "        self=self.left\n",
        "      if self.left is None and self.right is not None:\n",
        "        pass\n",
        "        self=self.right\n",
        "      else:\n",
        "        pass\n",
        "        if value>self.data:\n",
        "          #get min from right side tree and replace the node\n",
        "          rightmin=self.right.minbinary_tree()\n",
        "          self=rightmin\n",
        "          rightmin=None\n",
        "\n",
        "        else:\n",
        "          #get maximum from the left tree and replace the node\n",
        "          leftmax=self.left.maxbinary_tree\n",
        "          leftmax=None'''\n"
      ]
    },
    {
      "cell_type": "code",
      "execution_count": null,
      "metadata": {
        "id": "BJI-QyJvQnCf"
      },
      "outputs": [],
      "source": []
    },
    {
      "cell_type": "code",
      "execution_count": 75,
      "metadata": {
        "id": "zlimKEW_4Iu_",
        "colab": {
          "base_uri": "https://localhost:8080/"
        },
        "outputId": "031a2b74-6712-42b8-fe0d-0e4e7b4a05e6"
      },
      "outputs": [
        {
          "output_type": "stream",
          "name": "stdout",
          "text": [
            "{'Mumbai': ['Paris', 'Dubai'], 'Paris': ['Dubai', 'New York'], 'Dubai': ['New York', 'Chicago'], 'New York': ['Toronto']}\n",
            "[['Mumbai', 'Paris', 'Dubai', 'New York'], ['Mumbai', 'Paris', 'New York'], ['Mumbai', 'Dubai', 'New York']]\n"
          ]
        }
      ],
      "source": [
        "class Graph:\n",
        "  def __init__(self,edges):\n",
        "    self.edges=edges\n",
        "    self.graph_dict={}\n",
        "    for start,end in edges:\n",
        "      if start in self.graph_dict:\n",
        "        self.graph_dict[start].append(end)\n",
        "      else:\n",
        "        self.graph_dict[start]=[end]\n",
        "    print(self.graph_dict)\n",
        "\n",
        "  def get_route(self,start,end,path=[]):\n",
        "    path=path+[start]\n",
        "    if start==end:\n",
        "      return [path]\n",
        "    if start not in self.graph_dict:\n",
        "      return []\n",
        "    paths=[]\n",
        "    for node in self.graph_dict[start]:\n",
        "      if node not in path:\n",
        "          new_path=self.get_route(node,end,path)\n",
        "          for p in new_path:\n",
        "            paths.append(new_path)\n",
        "    return paths\n",
        "\n",
        "if __name__=='__main__':\n",
        "  routes=[\n",
        "      (\"Mumbai\", \"Paris\"),\n",
        "        (\"Mumbai\", \"Dubai\"),\n",
        "        (\"Paris\", \"Dubai\"),\n",
        "        (\"Paris\", \"New York\"),\n",
        "        (\"Dubai\", \"New York\"),\n",
        "        (\"Dubai\", \"Chicago\"),\n",
        "        (\"New York\", \"Toronto\"),\n",
        "  ]\n",
        "  graph_route = Graph(routes)\n",
        "#all_routes=graph_route.get_paths('Mumbai','New York')\n",
        "all_routes_own=graph_route.get_route('Mumbai','New York')\n",
        "print(all_routes)\n"
      ]
    },
    {
      "cell_type": "code",
      "source": [
        "random=[[1,2,3,4],[1,2,3],[1,2]]\n",
        "\n",
        "print(min(random))"
      ],
      "metadata": {
        "id": "kQnyU01_4cEI",
        "outputId": "06187cfc-6c32-4a48-84ec-6f7c97f0fc55",
        "colab": {
          "base_uri": "https://localhost:8080/"
        }
      },
      "execution_count": 62,
      "outputs": [
        {
          "output_type": "stream",
          "name": "stdout",
          "text": [
            "[1, 2]\n"
          ]
        }
      ]
    }
  ],
  "metadata": {
    "colab": {
      "provenance": []
    },
    "kernelspec": {
      "display_name": "Python 3",
      "name": "python3"
    },
    "language_info": {
      "name": "python"
    }
  },
  "nbformat": 4,
  "nbformat_minor": 0
}