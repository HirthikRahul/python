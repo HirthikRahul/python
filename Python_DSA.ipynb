{
  "nbformat": 4,
  "nbformat_minor": 0,
  "metadata": {
    "colab": {
      "provenance": []
    },
    "kernelspec": {
      "name": "python3",
      "display_name": "Python 3"
    },
    "language_info": {
      "name": "python"
    }
  },
  "cells": [
    {
      "cell_type": "code",
      "source": [
        "'''!git config --global user.email \"hirthikrahul@gmail.com\"\n",
        "!git config --global user.name \"HirthikRahul\"\n",
        "!git add .\n",
        "!git commit -m \"done untill binary tree\"\n",
        "!git push origin main'''"
      ],
      "metadata": {
        "colab": {
          "base_uri": "https://localhost:8080/",
          "height": 53
        },
        "id": "HqblG3lLEyvG",
        "outputId": "0b0c6c6e-8d45-408c-f39a-88e50a434523"
      },
      "execution_count": 15,
      "outputs": [
        {
          "output_type": "execute_result",
          "data": {
            "text/plain": [
              "'!git config --global user.email \"hirthikrahul@gmail.com\"\\n!git config --global user.name \"HirthikRahul\"\\n!git add .\\n!git commit -m \"done untill binary tree\"\\n!git push origin main'"
            ],
            "application/vnd.google.colaboratory.intrinsic+json": {
              "type": "string"
            }
          },
          "metadata": {},
          "execution_count": 15
        }
      ]
    },
    {
      "cell_type": "code",
      "source": [
        "class student:\n",
        "  def __init__(self,age,height,name,course_num,course_cost):\n",
        "    self.age=age\n",
        "    self.height=height\n",
        "    self.name=name\n",
        "    self.c2=self.courses(course_num,course_cost)\n",
        "\n",
        "\n",
        "\n",
        "\n",
        "  def getdetails(self):\n",
        "    print(self.name,self.age,self.height)\n",
        "\n",
        "\n",
        "  def in_outer_class(self):\n",
        "    print(\"can access outer class of parent\")\n",
        "\n",
        "  class courses:\n",
        "    def __init__(self,num_courses,fees):\n",
        "      self.num_courses=num_courses\n",
        "      self.fees=fees\n",
        "\n",
        "    def getdetails(self):\n",
        "      print(self.num_courses,self.fees)\n",
        "\n",
        "    def in_inner_class(self):\n",
        "      print(\"can access parent's inner class\")\n",
        "\n",
        "\n",
        "s1=student(21,180,\"Adam\",3,20005)\n",
        "#c1=student.courses(3,268)\n",
        "#s1.getdetails()\n",
        "#s1.c2.getdetails()\n",
        "\n",
        "class Teacher(student):\n",
        "  def __init__(self,name,subject):\n",
        "    self.name=name\n",
        "    self.subject=subject\n",
        "  def getdetails(self):\n",
        "    print(self.name,self.subject)\n",
        "\n",
        "  def get_inner_class_access(self):\n",
        "    self.courses.in_inner_class(self)\n",
        "\n",
        "t1=Teacher(\"Ramu\",\"Maths\")\n",
        "t1.getdetails()\n",
        "t1.in_outer_class()\n",
        "t1.get_inner_class_access()\n",
        "\n",
        "\n",
        "\n",
        "\n",
        "\n"
      ],
      "metadata": {
        "colab": {
          "base_uri": "https://localhost:8080/"
        },
        "id": "hZzMnWda8TLX",
        "outputId": "6444ab2d-4b50-489e-ace5-f9b87fc889f1"
      },
      "execution_count": 16,
      "outputs": [
        {
          "output_type": "stream",
          "name": "stdout",
          "text": [
            "Ramu Maths\n",
            "can access outer class of parent\n",
            "can access parent's inner class\n"
          ]
        }
      ]
    },
    {
      "cell_type": "code",
      "source": [],
      "metadata": {
        "id": "VS7f9xdYExo-"
      },
      "execution_count": 16,
      "outputs": []
    },
    {
      "cell_type": "code",
      "source": [
        "class Node:\n",
        "\n",
        "  def __init__(self,data,next):\n",
        "    self.data=data\n",
        "    self.next=next\n",
        "\n",
        "\n",
        "class LinkedList:\n",
        "\n",
        "  def __init__(self):\n",
        "    self.head=None\n",
        "\n",
        "  def insert_at_beginning(self,data):\n",
        "    new_node=Node(data,self.head)\n",
        "    self.head=new_node\n",
        "\n",
        "  def print_my_list(self):\n",
        "    if self.head==None:\n",
        "      print(\"Its as empty list\")\n",
        "      return\n",
        "    node_itr=self.head\n",
        "    liststr=''\n",
        "    while node_itr:\n",
        "      liststr=liststr+str(node_itr.data)+'---->'\n",
        "      node_itr=node_itr.next\n",
        "    print(liststr)\n",
        "\n",
        "  def length_of_list(self):\n",
        "    pass\n",
        "    if self.head==None:\n",
        "      return 0\n",
        "    node_itr=self.head\n",
        "    count=0\n",
        "    while node_itr:\n",
        "      count=count+1\n",
        "      node_itr=node_itr.next\n",
        "    return count\n",
        "\n",
        "\n",
        "\n",
        "  def insert_at_location(self,data,ind):\n",
        "    # see if loc is insde the range of list\n",
        "    if ind==0:\n",
        "      self.insert_at_beginning(data)\n",
        "      print(\"okay...I inserted at the beginning\")\n",
        "      return\n",
        "    if ind<=self.length_of_list()-1:\n",
        "      node_itr=self.head\n",
        "      while ind-1:\n",
        "        node_itr=node_itr.next\n",
        "        ind=ind-1\n",
        "      inserting_node=Node(data,node_itr.next)\n",
        "      node_itr.next=inserting_node\n",
        "\n",
        "  def get_index(self,value):\n",
        "    ind=0\n",
        "    node_itr=self.head\n",
        "    while node_itr.data!=value:\n",
        "      node_itr=node_itr.next\n",
        "      ind=ind+1\n",
        "    return ind\n",
        "\n",
        "  def insert_after_value(self,value,data):\n",
        "    ind=self.get_index(value)\n",
        "    self.insert_at_location(data,ind+1)\n",
        "\n",
        "  def inser_before_value(self,value,data):\n",
        "    ind=self.get_index(value)\n",
        "    self.insert_at_location(data,ind)\n",
        "\n",
        "  def delete_at_index(self,ind):\n",
        "    loc=0\n",
        "    node_itr=self.head\n",
        "    while loc!=ind-1:\n",
        "      node_itr=node_itr.next\n",
        "      loc=loc+1\n",
        "    node_itr.next=node_itr.next.next\n",
        "\n",
        "\n",
        "\n",
        "ll=LinkedList()\n",
        "ll.insert_at_beginning(5)\n",
        "ll.insert_at_beginning(89)\n",
        "ll.insert_at_beginning(78)\n",
        "ll.print_my_list()\n",
        "ll.insert_at_location(1011,0)\n",
        "ll.print_my_list()\n",
        "ll.insert_at_location(2022,2)\n",
        "ll.print_my_list()\n",
        "ll.get_index(2022)\n",
        "ll.insert_after_value(2022,2023)\n",
        "ll.print_my_list()\n",
        "ll.inser_before_value(2022,2021)\n",
        "ll.print_my_list()\n",
        "ll.delete_at_index(2)\n",
        "ll.print_my_list()\n",
        "\n",
        "\n",
        "\n"
      ],
      "metadata": {
        "colab": {
          "base_uri": "https://localhost:8080/"
        },
        "id": "4W8LAoab8TW3",
        "outputId": "a6b260d2-6e58-4407-e972-7d4b7d897c37"
      },
      "execution_count": 17,
      "outputs": [
        {
          "output_type": "stream",
          "name": "stdout",
          "text": [
            "78---->89---->5---->\n",
            "okay...I inserted at the beginning\n",
            "1011---->78---->89---->5---->\n",
            "1011---->78---->2022---->89---->5---->\n",
            "1011---->78---->2022---->2023---->89---->5---->\n",
            "1011---->78---->2021---->2022---->2023---->89---->5---->\n",
            "1011---->78---->2022---->2023---->89---->5---->\n"
          ]
        }
      ]
    },
    {
      "cell_type": "code",
      "source": [
        "#Hash Table with no collision handling\n",
        "\n",
        "class HashTable:\n",
        "\n",
        "  def __init__(self):\n",
        "    self.arr_max=10\n",
        "    self.arr=[None for _ in range(self.arr_max)]\n",
        "\n",
        "  def get_hash(self,key):\n",
        "    h=0\n",
        "    for x in key:\n",
        "      h=h+ord(x)\n",
        "      return (h%self.arr_max)\n",
        "\n",
        "  def add_element(self,kv_pair):\n",
        "    hashindex=self.get_hash(kv_pair[0])\n",
        "    self.arr[hashindex]=kv_pair[1]\n",
        "\n",
        "\n",
        "  def get_element(self,key):\n",
        "    hash_index=self.get_hash(key)\n",
        "    print(self.arr[hash_index])\n",
        "\n",
        "table=HashTable()\n",
        "table.add_element([\"Dec 6\",874])\n",
        "\n",
        "table.get_element(\"March 6\")\n",
        "\n",
        "\n",
        "\n"
      ],
      "metadata": {
        "colab": {
          "base_uri": "https://localhost:8080/"
        },
        "id": "A-kvRG7H8TYR",
        "outputId": "a85f45a3-4f92-4cdb-a98f-215a7dd61c96"
      },
      "execution_count": 18,
      "outputs": [
        {
          "output_type": "stream",
          "name": "stdout",
          "text": [
            "None\n"
          ]
        }
      ]
    },
    {
      "cell_type": "code",
      "source": [
        "table.add_element([\"Jan 6\",542])\n",
        "table.arr\n"
      ],
      "metadata": {
        "colab": {
          "base_uri": "https://localhost:8080/"
        },
        "id": "M7r7A5o68Tct",
        "outputId": "51c6a390-6c9f-4216-c0e2-8b768cd7f93e"
      },
      "execution_count": 19,
      "outputs": [
        {
          "output_type": "execute_result",
          "data": {
            "text/plain": [
              "[None, None, None, None, 542, None, None, None, 874, None]"
            ]
          },
          "metadata": {},
          "execution_count": 19
        }
      ]
    },
    {
      "cell_type": "code",
      "source": [
        "class Hash_Collision:\n",
        "  def __init__(self):\n",
        "    self.arr_max=10\n",
        "    self.arr=[[] for _ in range(self.arr_max)]\n",
        "\n",
        "\n",
        "  def get_hash(self,kv_pair):\n",
        "    h=0\n",
        "    for x in kv_pair[0]:\n",
        "      h=h+ord(x)\n",
        "      #print(h%self.arr_max)\n",
        "      return (h%self.arr_max)\n",
        "\n",
        "\n",
        "  def add_element(self,key,val):\n",
        "    h=self.get_hash(key)\n",
        "    found=False\n",
        "    for idx,elem in enumerate(self.arr[h]):\n",
        "      if elem[0]==key:\n",
        "        self.arr[h][idx]=[key,val]\n",
        "        found=True\n",
        "    if not found:\n",
        "      self.arr[h].append([key,val])\n",
        "\n",
        "    #self.arr[h].append([key,val])\n",
        "\n",
        "  def get_elemet(self,key):\n",
        "    h=self.get_hash(key)\n",
        "    found=False\n",
        "    for idx,elem in enumerate(self.arr[h]):\n",
        "      if elem[0]==key:\n",
        "        print(elem[0],elem[1])\n",
        "        found=True\n",
        "      if not found:\n",
        "        print(\"it doesnt exist\")\n",
        "\n",
        "\n",
        "t=Hash_Collision()\n",
        "\n",
        "\n",
        "#t.arr[9].append([\"march 06\",969])\n",
        "t.add_element(\"March 06\",19)\n",
        "t.add_element(\"Sept 06\",280)\n",
        "t.add_element(\"May 06\",920)\n",
        "t.add_element(\"May 06\",5)\n",
        "t.add_element(\"May 06\",25)\n",
        "t.get_elemet(\"May 06\")\n",
        "\n"
      ],
      "metadata": {
        "colab": {
          "base_uri": "https://localhost:8080/"
        },
        "collapsed": true,
        "id": "-0pUwYwZ8Ted",
        "outputId": "3fafaf25-a1c7-48a4-ed13-3631bd05f9c9"
      },
      "execution_count": 20,
      "outputs": [
        {
          "output_type": "stream",
          "name": "stdout",
          "text": [
            "it doesnt exist\n",
            "May 06 25\n"
          ]
        }
      ]
    },
    {
      "cell_type": "code",
      "source": [
        "#t.arr[9][0].append([\"sept 8\",7])\n",
        "#t.arr"
      ],
      "metadata": {
        "id": "l1e4Pv0U8TiP"
      },
      "execution_count": 21,
      "outputs": []
    },
    {
      "cell_type": "code",
      "source": [
        "!git config --global user.name \"HirthikRahul\"\n",
        "!git config --global user.email \"hirthikrahul@gmail.com\"\n",
        "!git config --global user.passwork \"\"\n"
      ],
      "metadata": {
        "id": "yFMaKItd8Tjz"
      },
      "execution_count": 22,
      "outputs": []
    },
    {
      "cell_type": "code",
      "source": [
        "token=''\n",
        "username='HirthikRahul'\n",
        "repo='python'"
      ],
      "metadata": {
        "id": "Qz7SQ1iy8Tn0"
      },
      "execution_count": 23,
      "outputs": []
    },
    {
      "cell_type": "code",
      "source": [
        "!git clone https://{token}@github.com/{username}/{repo}"
      ],
      "metadata": {
        "colab": {
          "base_uri": "https://localhost:8080/"
        },
        "id": "u9sJahJYwPnY",
        "outputId": "659ab9dd-4997-4c7e-c246-ec6a07739555"
      },
      "execution_count": 24,
      "outputs": [
        {
          "output_type": "stream",
          "name": "stdout",
          "text": [
            "Cloning into 'python'...\n",
            "warning: redirecting to https://github.com/HirthikRahul/python/\n",
            "remote: Enumerating objects: 58, done.\u001b[K\n",
            "remote: Counting objects: 100% (58/58), done.\u001b[K\n",
            "remote: Compressing objects: 100% (39/39), done.\u001b[K\n",
            "remote: Total 58 (delta 16), reused 2 (delta 0), pack-reused 0 (from 0)\u001b[K\n",
            "Receiving objects: 100% (58/58), 16.53 KiB | 2.36 MiB/s, done.\n",
            "Resolving deltas: 100% (16/16), done.\n"
          ]
        }
      ]
    },
    {
      "cell_type": "code",
      "source": [
        "%cd {repo}"
      ],
      "metadata": {
        "colab": {
          "base_uri": "https://localhost:8080/"
        },
        "id": "oSijohqywQCk",
        "outputId": "e42bd0c7-ab79-4779-9fef-a668a4addc38"
      },
      "execution_count": 25,
      "outputs": [
        {
          "output_type": "stream",
          "name": "stdout",
          "text": [
            "/content/python\n"
          ]
        }
      ]
    },
    {
      "cell_type": "code",
      "source": [
        "%ls"
      ],
      "metadata": {
        "id": "dH-2PdIL1Tag"
      },
      "execution_count": 26,
      "outputs": []
    },
    {
      "cell_type": "code",
      "source": [
        "%cd Python_Practice"
      ],
      "metadata": {
        "colab": {
          "base_uri": "https://localhost:8080/"
        },
        "id": "LrYTnifG31lJ",
        "outputId": "6744abbf-c966-4cc4-b615-f7b7e75a38b1"
      },
      "execution_count": 27,
      "outputs": [
        {
          "output_type": "stream",
          "name": "stdout",
          "text": [
            "[Errno 2] No such file or directory: 'Python_Practice'\n",
            "/content/python\n"
          ]
        }
      ]
    },
    {
      "cell_type": "code",
      "source": [
        "%ls"
      ],
      "metadata": {
        "id": "C0Ajjp9137w1"
      },
      "execution_count": 28,
      "outputs": []
    },
    {
      "cell_type": "code",
      "source": [],
      "metadata": {
        "id": "rjF-SaJr9jHa"
      },
      "execution_count": 28,
      "outputs": []
    },
    {
      "cell_type": "code",
      "source": [
        "#!mv /content/python/Python_Practice/Python_DSA.ipynb /content/python/Python_Practice"
      ],
      "metadata": {
        "id": "djWdzUcF1XGB"
      },
      "execution_count": 29,
      "outputs": []
    },
    {
      "cell_type": "code",
      "source": [
        "#!git status"
      ],
      "metadata": {
        "id": "6qPRt3rc1XC_"
      },
      "execution_count": 30,
      "outputs": []
    },
    {
      "cell_type": "code",
      "source": [
        "#!git add --all"
      ],
      "metadata": {
        "id": "7YH65M1q1W_H"
      },
      "execution_count": 31,
      "outputs": []
    },
    {
      "cell_type": "code",
      "source": [
        "#!git commit -a -m \"Making a commit from colab!!\""
      ],
      "metadata": {
        "id": "NcFptIba1W9y"
      },
      "execution_count": 32,
      "outputs": []
    },
    {
      "cell_type": "code",
      "source": [
        "#!git remote -v"
      ],
      "metadata": {
        "id": "T0z6df-y1W6A"
      },
      "execution_count": 33,
      "outputs": []
    },
    {
      "cell_type": "code",
      "source": [
        "#!git push origin main"
      ],
      "metadata": {
        "id": "_b2R-EGb1W4T"
      },
      "execution_count": 34,
      "outputs": []
    },
    {
      "cell_type": "code",
      "source": [],
      "metadata": {
        "id": "qi-lX-uc4I4A"
      },
      "execution_count": 34,
      "outputs": []
    },
    {
      "cell_type": "code",
      "source": [
        "class Tree_Node:\n",
        "  def __init__(self,data):\n",
        "    self.data=data\n",
        "    self.parent=None\n",
        "    self.child=[]\n",
        "    self.num_of_childer=None\n",
        "\n",
        "\n",
        "  def add_child_tree(self,kid):\n",
        "    pass\n",
        "    kid.parent=self\n",
        "    self.child.append(kid)\n",
        "\n",
        "\n",
        "\n",
        "\n",
        "  def get_level(self):\n",
        "    level=0\n",
        "    while self.parent:\n",
        "      level+=1\n",
        "      self=self.parent\n",
        "    return level\n",
        "\n",
        "  def print_tree(self):\n",
        "    level=self.get_level()\n",
        "    if self.parent:\n",
        "      print(\"    \"*level+\"|__\"+self.data)\n",
        "    else:\n",
        "      print(self.data)\n",
        "    #print(self.data)\n",
        "    for each_child in self.child:\n",
        "\n",
        "      each_child.print_tree()\n",
        "\n",
        "\n",
        "\n",
        "\n",
        "\n",
        "def build_tree():\n",
        "  root_tree_node1=Tree_Node(\"Motor vehicles\")\n",
        "  four_wheels=Tree_Node(\"Four Wheelers\")\n",
        "  two_wheels=Tree_Node(\"Two Wheelers\")\n",
        "\n",
        "  #four_wheels.add_child_tree(Tree_Node(\"Car\"))\n",
        "  car=Tree_Node(\"Car\")\n",
        "  van=Tree_Node(\"Van\")\n",
        "  four_wheels.add_child_tree(car)\n",
        "  four_wheels.add_child_tree(van)\n",
        "  #four_wheels.add_child_tree(Tree_Node(\"Van\"))\n",
        "\n",
        "\n",
        "  #two_wheels.add_child_tree(Tree_Node(\"Scooty\"))\n",
        "  scooty=Tree_Node(\"Scooty\")\n",
        "  two_wheels.add_child_tree(scooty)\n",
        "  #two_wheels.add_child_tree(Tree_Node(\"Bike\"))\n",
        "  Bike=Tree_Node(\"Bike\")\n",
        "  two_wheels.add_child_tree(Bike)\n",
        "\n",
        "  root_tree_node1.add_child_tree(four_wheels)\n",
        "  root_tree_node1.add_child_tree(two_wheels)\n",
        "\n",
        "\n",
        "  #print(\"car level:\",car.get_level())\n",
        "  return root_tree_node1\n",
        "\n",
        "\n",
        "\n",
        "\n",
        "if __name__=='__main__':\n",
        "  our_tree=build_tree()\n",
        "  #print(type(our_tree))\n",
        "  our_tree.print_tree()\n",
        "\n",
        "\n",
        "\n"
      ],
      "metadata": {
        "id": "-troIe9h4I0-",
        "colab": {
          "base_uri": "https://localhost:8080/"
        },
        "outputId": "9aab4498-a55c-4bcd-bb54-479949bfab9a"
      },
      "execution_count": 35,
      "outputs": [
        {
          "output_type": "stream",
          "name": "stdout",
          "text": [
            "Motor vehicles\n",
            "    |__Four Wheelers\n",
            "        |__Car\n",
            "        |__Van\n",
            "    |__Two Wheelers\n",
            "        |__Scooty\n",
            "        |__Bike\n"
          ]
        }
      ]
    },
    {
      "cell_type": "code",
      "source": [
        "class BinaryTree:\n",
        "\n",
        "  def __init__(self,data):\n",
        "    self.data=data\n",
        "    self.left=None\n",
        "    self.right=None\n",
        "    self.parent=None\n",
        "    self.has_child_BT=None\n",
        "\n",
        "\n",
        "  def add_node_BT(self,node):\n",
        "    if self.data==node.data:\n",
        "      return\n",
        "    if node.data<self.data:\n",
        "      if self.left is None:\n",
        "        self.left=node\n",
        "        node.parent=self\n",
        "        self.has_child_BT=True\n",
        "      else:\n",
        "        self.left.add_node_BT(node)\n",
        "    else:\n",
        "      if self.right is None:\n",
        "        self.right=node\n",
        "        node.parent=self\n",
        "        self.has_child_BT=True\n",
        "      else:\n",
        "        self.right.add_node_BT(node)\n",
        "\n",
        "  def print_binary_tree_preorder(self):\n",
        "    if self is None:\n",
        "      return\n",
        "    print(self.data)\n",
        "    if self.left:\n",
        "      self.left.print_binary_tree_preorder()\n",
        "    if self.right:\n",
        "      self.right.print_binary_tree_preorder()\n",
        "\n",
        "\n",
        "  def maxbinary_tree(self):\n",
        "    itr=self\n",
        "    while itr.right:\n",
        "      itr=self.right\n",
        "    return itr\n",
        "\n",
        "  def minbinary_tree(self):\n",
        "    itr=self\n",
        "    while itr.left:\n",
        "      itr=itr.left\n",
        "    return itr\n",
        "\n",
        "  def delete_node_BT(self,val):\n",
        "    node_to_be_deleted=self.find_value_BT(val)\n",
        "    if node_to_be_deleted is None:\n",
        "      print(\"item is not there to delete\")\n",
        "      return None\n",
        "\n",
        "    else:\n",
        "      if node_to_be_deleted.parent:\n",
        "        item_to_work=node_to_be_deleted.parent\n",
        "        if node_to_be_deleted.left is None and node_to_be_deleted.right is None:\n",
        "          if item_to_work.left==node_to_be_deleted:\n",
        "            item_to_work.left=None\n",
        "          else:\n",
        "            item_to_work.right=None\n",
        "\n",
        "        if node_to_be_deleted.left is None and node_to_be_deleted.right is not None:\n",
        "          if item_to_work.left==node_to_be_deleted:\n",
        "            item_to_work.left=node_to_be_deleted.right\n",
        "          elif item_to_work.right==node_to_be_deleted:\n",
        "            item_to_work.right=node_to_be_deleted.right\n",
        "        if node_to_be_deleted.left is not None and node_to_be_deleted.right is None:\n",
        "          if item_to_work.left==node_to_be_deleted:\n",
        "            item_to_work.left=node_to_be_deleted.right\n",
        "          elif item_to_work.right==node_to_be_deleted:\n",
        "            item_to_work.right=node_to_be_deleted.right\n",
        "\n",
        "        '''else:\n",
        "          min_right_sub_tree=node_to_be_deleted.minbinary_tree()\n",
        "          node_to_be_deleted.data=min_right_sub_tree.data\n",
        "          return min_right_sub_tree.delete_node_BT(min_right_sub_tree.data)'''\n",
        "\n",
        "\n",
        "\n",
        "\n",
        "\n",
        "\n",
        "\n",
        "  def find_value_BT(self,value):\n",
        "    if value==self.data:\n",
        "      return self\n",
        "    if value<self.data:\n",
        "      if self.left:\n",
        "        itrl=self.left\n",
        "        return itrl.find_value_BT(value)\n",
        "      else:\n",
        "        return None\n",
        "    if value>self.data:\n",
        "      if self.right:\n",
        "        itrr=self.right\n",
        "        return itrr.find_value_BT(value)\n",
        "\n",
        "\n",
        "\n",
        "\n",
        "def build_binary_tree():\n",
        "  binary_tree_root=BinaryTree(24)\n",
        "  binary_tree_node1=BinaryTree(22)\n",
        "  binary_tree_node2=BinaryTree(89)\n",
        "  binary_tree_node3=BinaryTree(15)\n",
        "  binary_tree_node4=BinaryTree(1)\n",
        "  binary_tree_node5=BinaryTree(80)\n",
        "  binary_tree_root.add_node_BT(binary_tree_node1)\n",
        "  binary_tree_root.add_node_BT(binary_tree_node2)\n",
        "  binary_tree_root.add_node_BT(binary_tree_node3)\n",
        "  binary_tree_root.add_node_BT(binary_tree_node4)\n",
        "  binary_tree_root.add_node_BT(binary_tree_node5)\n",
        "  #print(\"parent is\",binary_tree_node4.parent.data)\n",
        "\n",
        "  return binary_tree_root\n",
        "\n",
        "if __name__=='__main__':\n",
        "  binary_tree_vairbale = build_binary_tree()\n",
        "  binary_tree_vairbale.print_binary_tree_preorder()\n",
        "  print(\"max is\",binary_tree_vairbale.maxbinary_tree().data)\n",
        "  binary_tree_vairbale.delete_node_BT(80)\n",
        "  print(\"max after deletion is\",binary_tree_vairbale.maxbinary_tree().data)\n",
        "  print(\"parent of item: \",binary_tree_vairbale.find_value_BT(1).parent.data)\n",
        "  binary_tree_vairbale.delete_node_BT(80)\n",
        "  print(\"tree after deletion\")\n",
        "  binary_tree_vairbale.print_binary_tree_preorder()\n",
        "\n"
      ],
      "metadata": {
        "id": "0S6VBXcS4IxC",
        "colab": {
          "base_uri": "https://localhost:8080/"
        },
        "outputId": "a5f18420-1738-4a4c-8c47-01b15f1c9644"
      },
      "execution_count": 36,
      "outputs": [
        {
          "output_type": "stream",
          "name": "stdout",
          "text": [
            "24\n",
            "22\n",
            "15\n",
            "1\n",
            "89\n",
            "80\n",
            "max is 89\n",
            "max after deletion is 89\n",
            "parent of item:  15\n",
            "item is not there to delete\n",
            "tree after deletion\n",
            "24\n",
            "22\n",
            "15\n",
            "1\n",
            "89\n"
          ]
        }
      ]
    },
    {
      "cell_type": "code",
      "source": [
        "class A:\n",
        "  def print_method_a():\n",
        "    print(\"i am in class A\")\n",
        "\n",
        "  class B:\n",
        "    def print_method_b():\n",
        "      print(\"i am in class B\")\n",
        "\n",
        "class C(A,A.B):\n",
        "  def print_method_c():\n",
        "    print(\"i am in class C\")\n",
        "# We can use multi-inheritance to inherit innner class. access inner class of the parent class through the parent class. \"Paren_Class.Inner_Class\"\n",
        "c=C"
      ],
      "metadata": {
        "id": "new4m143Qmwk"
      },
      "execution_count": 37,
      "outputs": []
    },
    {
      "cell_type": "code",
      "source": [
        "'''def delete_node_binary_tree(self,value):\n",
        "    print(\"self.data is\",self.data)\n",
        "    #print(\"value is \",value)\n",
        "    if self.data is None:\n",
        "      return\n",
        "    if value<self.data:\n",
        "      while self.left.data!=value:\n",
        "        self=self.left\n",
        "        self.delete_node_binary_tree()\n",
        "    if value>self.data:\n",
        "      #print(\"inside right , self.right value is\",self.right.data)\n",
        "      while self.right.data!=value:\n",
        "        self=self.right\n",
        "        print(\"self=self.right.data\",self.right.data)\n",
        "        self.delete_node_binary_tree()\n",
        "    elif self.data==value:\n",
        "      # delete the node\n",
        "      #print(\"entered the elif block\")\n",
        "      if self.left is None and self.right is None:\n",
        "        self=None\n",
        "      if self.left is not None and self.right is None:\n",
        "        pass\n",
        "        self=self.left\n",
        "      if self.left is None and self.right is not None:\n",
        "        pass\n",
        "        self=self.right\n",
        "      else:\n",
        "        pass\n",
        "        if value>self.data:\n",
        "          #get min from right side tree and replace the node\n",
        "          rightmin=self.right.minbinary_tree()\n",
        "          self=rightmin\n",
        "          rightmin=None\n",
        "\n",
        "        else:\n",
        "          #get maximum from the left tree and replace the node\n",
        "          leftmax=self.left.maxbinary_tree\n",
        "          leftmax=None'''\n"
      ],
      "metadata": {
        "id": "l0EfqUvOQm-W",
        "colab": {
          "base_uri": "https://localhost:8080/",
          "height": 123
        },
        "outputId": "c456eab9-7760-45fb-99fa-48a1f62580e2"
      },
      "execution_count": 38,
      "outputs": [
        {
          "output_type": "execute_result",
          "data": {
            "text/plain": [
              "'def delete_node_binary_tree(self,value):\\n    print(\"self.data is\",self.data)\\n    #print(\"value is \",value)\\n    if self.data is None:\\n      return\\n    if value<self.data:\\n      while self.left.data!=value:\\n        self=self.left\\n        self.delete_node_binary_tree()\\n    if value>self.data:\\n      #print(\"inside right , self.right value is\",self.right.data)\\n      while self.right.data!=value:\\n        self=self.right\\n        print(\"self=self.right.data\",self.right.data)\\n        self.delete_node_binary_tree()\\n    elif self.data==value:\\n      # delete the node\\n      #print(\"entered the elif block\")\\n      if self.left is None and self.right is None:\\n        self=None\\n      if self.left is not None and self.right is None:\\n        pass\\n        self=self.left\\n      if self.left is None and self.right is not None:\\n        pass\\n        self=self.right\\n      else:\\n        pass\\n        if value>self.data:\\n          #get min from right side tree and replace the node\\n          rightmin=self.right.minbinary_tree()\\n          self=rightmin\\n          rightmin=None\\n\\n        else:\\n          #get maximum from the left tree and replace the node\\n          leftmax=self.left.maxbinary_tree\\n          leftmax=None'"
            ],
            "application/vnd.google.colaboratory.intrinsic+json": {
              "type": "string"
            }
          },
          "metadata": {},
          "execution_count": 38
        }
      ]
    },
    {
      "cell_type": "code",
      "source": [
        "class Graph:\n",
        "  def __init__(self):\n",
        "    pass"
      ],
      "metadata": {
        "id": "BJI-QyJvQnCf"
      },
      "execution_count": 40,
      "outputs": []
    },
    {
      "cell_type": "code",
      "source": [],
      "metadata": {
        "id": "zlimKEW_4Iu_"
      },
      "execution_count": null,
      "outputs": []
    }
  ]
}